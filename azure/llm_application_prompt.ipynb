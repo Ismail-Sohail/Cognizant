{
 "cells": [
  {
   "cell_type": "markdown",
   "metadata": {},
   "source": [
    "# Summary Report\n",
    "\n",
    "Task Definition:\n",
    "The objective of this project is to develop a Customer Support Chatbot using Azure’s LLM (e.g., OpenAI GPT). The goal is to provide users with real-time, accurate responses to their inquiries by processing natural language inputs. The chatbot aims to improve customer service efficiency and provide quick, relevant answers to common queries.\n",
    "\n",
    "Prompt Flow Design:\n",
    "The chatbot’s prompt flow is structured as follows:\n",
    "\n",
    "Input Nodes: Capture user queries.\n",
    "Model Nodes: Process the inputs using Azure’s OpenAI model (e.g., GPT).\n",
    "Output Nodes: Return generated responses to the user.\n",
    "The flow leverages APIs to process and generate text, delivering seamless interaction.\n",
    "Prototype Summary:\n",
    "The chatbot was implemented using Python and Azure’s OpenAI API. The main challenge was ensuring proper integration between input handling and model output generation. Testing various prompts was crucial to optimize response quality.\n",
    "\n",
    "Monitoring Insights:\n",
    "Monitoring tools like Azure Monitor can track metrics such as response time, latency, and error rates. User feedback is collected for continuous improvement. High error rates can indicate performance issues that need addressing.\n",
    "\n",
    "Future Improvements:\n",
    "Future updates could involve integrating more advanced features such as user-specific queries, fine-tuning the model for better accuracy, and incorporating multi-language support to reach a broader audience."
   ]
  },
  {
   "cell_type": "code",
   "execution_count": null,
   "metadata": {},
   "outputs": [],
   "source": [
    "import openai\n",
    "import os\n",
    "import re\n",
    "\n",
    "openai.api_key = os.getenv(\"OPENAI_API_KEY\")\n",
    "\n",
    "# Function to preprocess the user query \n",
    "def preprocess_input(text):\n",
    "    text = text.lower()\n",
    "    text = re.sub(r\"[\\U00010000-\\U0010FFFF]\", \"\", text)  # Remove emojis (Unicode range)\n",
    "    text = re.sub(r\"read more\", \"\", text)  # Remove 'read more' phrase\n",
    "    text = re.sub(r\"[^a-zA-Z\\s]\", \"\", text)  # Remove special characters\n",
    "    text = re.sub(r\"\\s+\", \" \", text).strip()  # Remove extra spaces\n",
    "    return text.strip()\n",
    "\n",
    "# Function to get response from Azure OpenAI GPT-3 model\n",
    "def get_chatbot_response(user_query):\n",
    "    # Preprocess the input query\n",
    "    processed_query = preprocess_input(user_query)\n",
    "    \n",
    "    # Send the query to OpenAI's GPT-3 model and get the response\n",
    "    response = openai.Completion.create(\n",
    "        engine=\"text-davinci-003\",  \n",
    "        prompt=f\"You are a customer support assistant. Please answer the query: {processed_query}\",\n",
    "        max_tokens=100,  \n",
    "        n=1,\n",
    "        stop=None,\n",
    "        temperature=0.7  \n",
    "    )\n",
    "\n",
    "    # Extract and return the response text\n",
    "    return response.choices[0].text.strip()\n",
    "\n"
   ]
  },
  {
   "cell_type": "code",
   "execution_count": null,
   "metadata": {},
   "outputs": [],
   "source": [
    "# Function to simulate the chatbot interface\n",
    "def chatbot_interface():\n",
    "    print(\"Welcome to the Customer Support Chatbot!\")\n",
    "    print(\"Type 'exit' to end the chat.\")\n",
    "    \n",
    "    while True:\n",
    "        user_input = input(\"You: \")\n",
    "        \n",
    "        if user_input.lower() == 'exit':\n",
    "            print(\"Goodbye! Have a great day!\")\n",
    "            break\n",
    "        \n",
    "        # Get response from the chatbot\n",
    "        response = get_chatbot_response(user_input)\n",
    "        print(f\"Bot: {response}\")\n",
    "\n",
    "# Run the chatbot\n",
    "if __name__ == \"__main__\":\n",
    "    chatbot_interface()\n"
   ]
  }
 ],
 "metadata": {
  "kernelspec": {
   "display_name": "cognizant_projects",
   "language": "python",
   "name": "python3"
  },
  "language_info": {
   "name": "python",
   "version": "3.12.8"
  }
 },
 "nbformat": 4,
 "nbformat_minor": 2
}
