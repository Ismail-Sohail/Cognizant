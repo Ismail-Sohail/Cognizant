{
 "cells": [
  {
   "cell_type": "markdown",
   "metadata": {},
   "source": [
    "Task Definition: The objective is to implement a sentiment analysis tool for product reviews. This helps businesses gauge customer sentiment and improve services. The task is significant for analyzing customer feedback in real-time.\n",
    "\n",
    "Model Selection: The Microsoft Sentiment Analysis model was chosen for its task alignment and strong performance in text sentiment prediction.\n",
    "\n",
    "Management Process: The model was labeled, versioned, and organized in Azure AI Studio for efficient tracking and collaboration.\n",
    "\n",
    "Solution Development: We integrated the model with Azure's Text Analytics API, preprocessing the data and evaluating model performance.\n",
    "\n",
    "Evaluation Results: The model performed well, achieving high accuracy on the test set.\n",
    "\n",
    "Future Improvements: Improve preprocessing for noisy reviews and address dataset imbalance."
   ]
  },
  {
   "cell_type": "code",
   "execution_count": null,
   "metadata": {},
   "outputs": [],
   "source": [
    "import pandas as pd\n",
    "from sklearn.model_selection import train_test_split\n",
    "from azure.ai.textanalytics import TextAnalyticsClient\n",
    "from azure.core.credentials import AzureKeyCredential\n",
    "from sklearn.metrics import accuracy_score\n",
    "from sklearn.metrics import classification_report\n",
    "import os"
   ]
  },
  {
   "cell_type": "code",
   "execution_count": null,
   "metadata": {},
   "outputs": [],
   "source": [
    "# Load the dataset\n",
    "df = pd.read_csv('product_reviews.csv')\n",
    "\n",
    "# Preprocess the text data (example)\n",
    "df['review_text'] = df['review_text'].apply(lambda x: x.lower())  # Convert to lowercase\n",
    "\n",
    "# Split data into training and test sets\n",
    "X_train, X_test, y_train, y_test = train_test_split(df['review_text'], df['sentiment'], test_size=0.2)\n"
   ]
  },
  {
   "cell_type": "code",
   "execution_count": null,
   "metadata": {},
   "outputs": [],
   "source": [
    "\n",
    "\n",
    "# Set up Azure Text Analytics client\n",
    "endpoint = os.getenv(\"GET-END-POINT\")\n",
    "key =os.getenv(\"AZURE-KEY\")\n",
    "\n",
    "client = TextAnalyticsClient(endpoint=endpoint, credential=AzureKeyCredential(key))\n",
    "\n",
    "# Function to get sentiment prediction\n",
    "def analyze_sentiment(texts):\n",
    "    response = client.analyze_sentiment(documents=texts)\n",
    "    return [doc.sentiment for doc in response]\n",
    "\n",
    "# Test with a single review text\n",
    "sample_reviews = [\"This product is amazing!\", \"Worst purchase I’ve made.\"]\n",
    "predictions = analyze_sentiment(sample_reviews)\n",
    "print(predictions)\n"
   ]
  },
  {
   "cell_type": "code",
   "execution_count": null,
   "metadata": {},
   "outputs": [],
   "source": [
    "\n",
    "\n",
    "# Example output evaluation with a test set\n",
    "y_pred = analyze_sentiment(X_test.tolist())  # Apply the function to test data\n",
    "print(f\"Accuracy: {accuracy_score(y_test, y_pred)}\")\n"
   ]
  },
  {
   "cell_type": "code",
   "execution_count": null,
   "metadata": {},
   "outputs": [],
   "source": [
    "\n",
    "# Detailed evaluation\n",
    "print(classification_report(y_test, y_pred))\n"
   ]
  }
 ],
 "metadata": {
  "kernelspec": {
   "display_name": "cognizant_projects",
   "language": "python",
   "name": "python3"
  },
  "language_info": {
   "name": "python",
   "version": "3.12.8"
  }
 },
 "nbformat": 4,
 "nbformat_minor": 2
}
